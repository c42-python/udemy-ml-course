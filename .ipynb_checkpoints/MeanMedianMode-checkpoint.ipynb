{
 "cells": [
  {
   "cell_type": "markdown",
   "metadata": {},
   "source": [
    "# Mean, Median, Mode, and introducing NumPy"
   ]
  },
  {
   "cell_type": "markdown",
   "metadata": {},
   "source": [
    "## Mean vs. Median"
   ]
  },
  {
   "cell_type": "markdown",
   "metadata": {},
   "source": [
    "Let's create some fake income data, centered around 27,000 with a normal distribution and standard deviation of 15,000, with 10,000 data points. (We'll discuss those terms more later, if you're not familiar with them.)\n",
    "\n",
    "Then, compute the mean (average) - it should be close to 27,000:"
   ]
  },
  {
   "cell_type": "code",
   "execution_count": 1,
   "metadata": {},
   "outputs": [
    {
     "data": {
      "text/plain": [
       "26998.5650517272"
      ]
     },
     "execution_count": 1,
     "metadata": {},
     "output_type": "execute_result"
    }
   ],
   "source": [
    "import numpy as np\n",
    "\n",
    "incomes = np.random.normal(27000, 15000, 10000)\n",
    "np.mean(incomes)"
   ]
  },
  {
   "cell_type": "code",
   "execution_count": 2,
   "metadata": {},
   "outputs": [
    {
     "data": {
      "text/plain": [
       "array([36061.96230924, 31616.37216251,  7139.02385986, ...,\n",
       "       28218.9326428 , 36593.98743752, 23390.31255088])"
      ]
     },
     "execution_count": 2,
     "metadata": {},
     "output_type": "execute_result"
    }
   ],
   "source": [
    "incomes"
   ]
  },
  {
   "cell_type": "markdown",
   "metadata": {},
   "source": [
    "We can segment the income data into 50 buckets, and plot it as a histogram:"
   ]
  },
  {
   "cell_type": "code",
   "execution_count": 2,
   "metadata": {},
   "outputs": [
    {
     "data": {
      "image/png": "[encoded data removed]",
      "text/plain": [
       "<Figure size 432x288 with 1 Axes>"
      ]
     },
     "metadata": {
      "needs_background": "light"
     },
     "output_type": "display_data"
    }
   ],
   "source": [
    "%matplotlib inline\n",
    "import matplotlib.pyplot as plt\n",
    "plt.hist(incomes, 50)\n",
    "plt.show()"
   ]
  },
  {
   "cell_type": "markdown",
   "metadata": {},
   "source": [
    "Now compute the median - since we have a nice, even distribution it too should be close to 27,000:"
   ]
  },
  {
   "cell_type": "code",
   "execution_count": 3,
   "metadata": {},
   "outputs": [
    {
     "data": {
      "text/plain": [
       "27092.39320043316"
      ]
     },
     "execution_count": 3,
     "metadata": {},
     "output_type": "execute_result"
    }
   ],
   "source": [
    "np.median(incomes)"
   ]
  },
  {
   "cell_type": "markdown",
   "metadata": {},
   "source": [
    "Now we'll add Jeff Bezos into the mix. Darn income inequality!"
   ]
  },
  {
   "cell_type": "code",
   "execution_count": 4,
   "metadata": {},
   "outputs": [],
   "source": [
    "incomes = np.append(incomes, [1000000000])"
   ]
  },
  {
   "cell_type": "markdown",
   "metadata": {},
   "source": [
    "The median won't change much, but the mean does:"
   ]
  },
  {
   "cell_type": "code",
   "execution_count": 5,
   "metadata": {},
   "outputs": [
    {
     "data": {
      "text/plain": [
       "27092.571036571815"
      ]
     },
     "execution_count": 5,
     "metadata": {},
     "output_type": "execute_result"
    }
   ],
   "source": [
    "np.median(incomes)"
   ]
  },
  {
   "cell_type": "code",
   "execution_count": 6,
   "metadata": {},
   "outputs": [
    {
     "data": {
      "text/plain": [
       "126921.0284963053"
      ]
     },
     "execution_count": 6,
     "metadata": {},
     "output_type": "execute_result"
    }
   ],
   "source": [
    "np.mean(incomes)"
   ]
  },
  {
   "cell_type": "markdown",
   "metadata": {},
   "source": [
    "## Mode"
   ]
  },
  {
   "cell_type": "markdown",
   "metadata": {},
   "source": [
    "Next, let's generate some fake age data for 500 people:"
   ]
  },
  {
   "cell_type": "code",
   "execution_count": 3,
   "metadata": {},
   "outputs": [
    {
     "data": {
      "text/plain": [
       "array([26, 73, 49, 35, 33, 25, 27, 75, 72, 26, 32, 58, 32, 19, 71, 65, 63,\n",
       "       55, 81, 70, 26, 71, 27, 61, 59, 84, 41, 35, 53, 49, 55, 29, 45, 77,\n",
       "       74, 32, 37, 57, 29, 23, 71, 18, 70, 84, 52, 27, 45, 65, 44, 64, 69,\n",
       "       21, 66, 48, 72, 78, 42, 69, 71, 34, 34, 18, 43, 18, 28, 70, 52, 44,\n",
       "       78, 84, 58, 30, 37, 30, 37, 22, 69, 40, 67, 58, 28, 77, 40, 36, 29,\n",
       "       85, 56, 67, 48, 83, 67, 21, 49, 40, 73, 76, 87, 43, 26, 53, 29, 72,\n",
       "       72, 61, 56, 64, 86, 22, 42, 75, 74, 48, 22, 83, 59, 42, 27, 77, 66,\n",
       "       59, 27, 59, 74, 34, 56, 26, 48, 21, 66, 78, 46, 47, 89, 32, 18, 51,\n",
       "       25, 31, 32, 44, 71, 62, 66, 40, 28, 23, 56, 35, 86, 30, 27, 85, 53,\n",
       "       36, 80, 45, 29, 65, 40, 33, 48, 61, 28, 78, 85, 66, 48, 73, 40, 46,\n",
       "       25, 29, 30, 89, 71, 18, 89, 62, 56, 87, 33, 55, 68, 23, 27, 41, 22,\n",
       "       67, 30, 38, 58, 60, 55, 81, 84, 68, 39, 40, 36, 59, 61, 61, 74, 52,\n",
       "       60, 35, 63, 72, 89, 68, 48, 68, 27, 20, 82, 51, 50, 43, 72, 33, 42,\n",
       "       88, 89, 67, 45, 48, 27, 68, 49, 20, 70, 21, 72, 44, 66, 32, 74, 60,\n",
       "       47, 84, 23, 48, 51, 19, 28, 22, 28, 24, 37, 38, 39, 58, 65, 71, 71,\n",
       "       77, 48, 30, 68, 54, 18, 32, 70, 89, 36, 79, 72, 81, 69, 64, 73, 63,\n",
       "       30, 43, 34, 48, 37, 57, 52, 70, 39, 58, 51, 41, 57, 26, 20, 43, 28,\n",
       "       65, 41, 45, 83, 22, 58, 48, 68, 23, 78, 39, 65, 88, 48, 86, 71, 63,\n",
       "       62, 45, 35, 18, 51, 36, 63, 75, 50, 21, 76, 38, 47, 89, 63, 83, 81,\n",
       "       37, 31, 71, 52, 30, 88, 88, 40, 45, 55, 21, 44, 71, 42, 66, 27, 25,\n",
       "       53, 43, 84, 58, 68, 37, 55, 39, 64, 79, 40, 87, 31, 44, 30, 66, 23,\n",
       "       46, 76, 44, 75, 40, 75, 59, 78, 22, 72, 84, 64, 46, 61, 63, 70, 88,\n",
       "       77, 72, 82, 28, 41, 64, 64, 35, 36, 21, 38, 89, 60, 40, 77, 84, 51,\n",
       "       68, 57, 80, 37, 61, 75, 89, 20, 71, 42, 26, 59, 40, 49, 66, 28, 76,\n",
       "       64, 56, 72, 22, 67, 88, 28, 61, 33, 19, 31, 61, 34, 40, 54, 24, 51,\n",
       "       29, 67, 33, 82, 77, 50, 61, 63, 47, 19, 45, 27, 19, 57, 62, 40, 58,\n",
       "       85, 36, 30, 23, 35, 88, 63, 23, 36, 64, 70, 25, 74, 84, 43, 68, 87,\n",
       "       25, 46, 36, 56, 56, 43, 57, 29, 32, 64, 75, 69, 76, 42, 83, 68, 85,\n",
       "       71, 20, 43, 67, 73, 46, 73, 32, 55, 36, 69, 50, 42, 63, 65, 42, 67,\n",
       "       83, 71, 51, 61, 46, 60, 29])"
      ]
     },
     "execution_count": 3,
     "metadata": {},
     "output_type": "execute_result"
    }
   ],
   "source": [
    "ages = np.random.randint(18, high=90, size=500)\n",
    "ages"
   ]
  },
  {
   "cell_type": "code",
   "execution_count": 4,
   "metadata": {},
   "outputs": [
    {
     "data": {
      "text/plain": [
       "ModeResult(mode=array([40]), count=array([14]))"
      ]
     },
     "execution_count": 4,
     "metadata": {},
     "output_type": "execute_result"
    }
   ],
   "source": [
    "from scipy import stats\n",
    "stats.mode(ages)"
   ]
  },
  {
   "cell_type": "code",
   "execution_count": null,
   "metadata": {},
   "outputs": [],
   "source": []
  }
 ],
 "metadata": {
  "kernelspec": {
   "display_name": "Python 3",
   "language": "python",
   "name": "python3"
  },
  "language_info": {
   "codemirror_mode": {
    "name": "ipython",
    "version": 3
   },
   "file_extension": ".py",
   "mimetype": "text/x-python",
   "name": "python",
   "nbconvert_exporter": "python",
   "pygments_lexer": "ipython3",
   "version": "3.7.3"
  }
 },
 "nbformat": 4,
 "nbformat_minor": 1
}
